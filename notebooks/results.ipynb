{
 "cells": [
  {
   "cell_type": "code",
   "execution_count": 1,
   "id": "reported-technique",
   "metadata": {},
   "outputs": [],
   "source": [
    "import h5py\n",
    "import matplotlib.pyplot as plt\n",
    "import numpy as np\n",
    "import os\n",
    "import sys\n",
    "import torch\n",
    "sys.path.append('../scripts/src')\n",
    "from admixture_ae import AdmixtureAE"
   ]
  },
  {
   "cell_type": "code",
   "execution_count": 17,
   "id": "elect-pasta",
   "metadata": {},
   "outputs": [],
   "source": [
    "def plot_stacked_bar(data, series_labels, category_labels=None, \n",
    "                     show_values=False, value_format=\"{}\", y_label=None, \n",
    "                     colors=None, grid=False, reverse=False, legend=False):\n",
    "    \"\"\"Plots a stacked bar chart with the data and labels provided.\n",
    "\n",
    "    Keyword arguments:\n",
    "    data            -- 2-dimensional numpy array or nested list\n",
    "                       containing data for each series in rows\n",
    "    series_labels   -- list of series labels (these appear in\n",
    "                       the legend)\n",
    "    category_labels -- list of category labels (these appear\n",
    "                       on the x-axis)\n",
    "    show_values     -- If True then numeric value labels will \n",
    "                       be shown on each bar\n",
    "    value_format    -- Format string for numeric value labels\n",
    "                       (default is \"{}\")\n",
    "    y_label         -- Label for y-axis (str)\n",
    "    colors          -- List of color labels\n",
    "    grid            -- If True display grid\n",
    "    reverse         -- If True reverse the order that the\n",
    "                       series are displayed (left-to-right\n",
    "                       or right-to-left)\n",
    "    \"\"\"\n",
    "\n",
    "    ny = len(data[0])\n",
    "    ind = list(range(ny))\n",
    "\n",
    "    axes = []\n",
    "    cum_size = np.zeros(ny)\n",
    "\n",
    "    data = np.array(data)\n",
    "    majority_cluster = np.argmax(data.sum(axis=1))\n",
    "    print(majority_cluster)\n",
    "    print(data.shape)\n",
    "    data = data[:,data[majority_cluster,:].argsort()[::-1]]\n",
    "    if reverse:\n",
    "        data = np.flip(data, axis=1)\n",
    "        category_labels = reversed(category_labels)\n",
    "\n",
    "    for i, row_data in enumerate(data):\n",
    "        color = colors[i] if colors is not None else None\n",
    "        axes.append(plt.bar(ind, row_data, bottom=cum_size, \n",
    "                            label=series_labels[i], color=color, width=1))\n",
    "        cum_size += row_data\n",
    "\n",
    "    if category_labels:\n",
    "        plt.xticks(ind, category_labels)\n",
    "\n",
    "    if y_label:\n",
    "        plt.ylabel(y_label)\n",
    "    plt.yticks([])\n",
    "    plt.xticks([])\n",
    "    if legend:\n",
    "        plt.legend(loc='upper right', bbox_to_anchor=(1.5, 1))\n",
    "\n",
    "    if grid:\n",
    "        plt.grid()\n",
    "    if show_values:\n",
    "        for axis in axes:\n",
    "            for bar in axis:\n",
    "                w, h = bar.get_width(), bar.get_height()\n",
    "                plt.text(bar.get_x() + w/2, bar.get_y() + h/2, \n",
    "                         value_format.format(h), ha=\"center\", \n",
    "                         va=\"center\")\n",
    "    plt.xlim((0, data.shape[1]))"
   ]
  },
  {
   "cell_type": "code",
   "execution_count": 3,
   "id": "corporate-produce",
   "metadata": {},
   "outputs": [],
   "source": [
    "def batch_generator(X, device, batch_size=0):\n",
    "    if batch_size < 1:\n",
    "        yield torch.tensor(X, dtype=torch.float32)\n",
    "    else:\n",
    "        for i in range(0, X.shape[0], batch_size):\n",
    "            yield torch.tensor(X[i:i+batch_size], dtype=torch.float32, device=device)"
   ]
  },
  {
   "cell_type": "code",
   "execution_count": 4,
   "id": "narrow-costume",
   "metadata": {},
   "outputs": [],
   "source": [
    "device = torch.device('cuda' if torch.cuda.is_available() else 'cpu')"
   ]
  },
  {
   "cell_type": "code",
   "execution_count": 5,
   "id": "further-subject",
   "metadata": {},
   "outputs": [],
   "source": [
    "window_size = '100K'\n",
    "tr_filename = f'/home/usuaris/imatge/albert.dominguez/data/chr22/prepared/train{window_size}.h5'\n",
    "val_filename = f'/home/usuaris/imatge/albert.dominguez/data/chr22/prepared/valid{window_size}.h5'\n",
    "# tr_filename = f'/mnt/gpid07/users/margarita.geleta/data/chr22/prepared/train{window_size}.h5'\n",
    "# val_filename = f'/mnt/gpid07/users/margarita.geleta/data/chr22/prepared/valid{window_size}.h5'\n",
    "tr_data = h5py.File(tr_filename, 'r')\n",
    "val_data = h5py.File(val_filename, 'r')\n",
    "X, y = tr_data['snps'], tr_data['populations']\n",
    "valX, valY = val_data['snps'], val_data['populations']\n",
    "_, labels_train = np.unique(y, return_inverse=True)\n",
    "ancestries = ['EUR', 'EAS', 'AMR', 'SAS', 'AFR', 'OCE', 'WAS']"
   ]
  },
  {
   "cell_type": "markdown",
   "id": "pretty-civilization",
   "metadata": {},
   "source": [
    "datafile = '../data/all_chm_combined_snps_world_2M_with_labels.npz'\n",
    "npzfile = np.load(datafile, allow_pickle=True)\n",
    "loaded_file = npzfile['snps']"
   ]
  },
  {
   "cell_type": "markdown",
   "id": "adolescent-county",
   "metadata": {},
   "source": [
    "num_features = 0\n",
    "dataset = loaded_file if num_features <= 0 else loaded_file[:,:num_features]\n",
    "labels_train_names = npzfile['populations']\n",
    "ancestries, labels_train = np.unique(labels_train_names, return_inverse=True)\n",
    "#del labels_train_names, npzfile"
   ]
  },
  {
   "cell_type": "markdown",
   "id": "partial-property",
   "metadata": {},
   "source": [
    "X, valX, y, valY = train_test_split(dataset, labels_train, test_size=.15, random_state=42)"
   ]
  },
  {
   "cell_type": "code",
   "execution_count": 6,
   "id": "nutritional-qualification",
   "metadata": {},
   "outputs": [
    {
     "name": "stdout",
     "output_type": "stream",
     "text": [
      "Deep_Windowed_100K_init_minibatch_kmeans_logit_K_7_lambdal0_0.0_mse_frac_0.5_BS_200_l2_0.1_BN_1.pt\n"
     ]
    }
   ],
   "source": [
    "batch_size = 200\n",
    "loss = 'mse'\n",
    "frac = 0.5\n",
    "k = 7\n",
    "lambda_l0 = 0.0\n",
    "deep_encoder = True\n",
    "init = 'minibatch_kmeans_logit'\n",
    "MODELS_PATH = '../outputs'\n",
    "encoder_type = 'Deep' if deep_encoder else 'Shallow'\n",
    "long = True\n",
    "lambda_l2 = 0.1\n",
    "bnorm = 1\n",
    "MODEL_NAME = f'{encoder_type}_Windowed_{window_size}_init_{init}_K_{k}_lambdal0_{lambda_l0}_{loss}_frac_{frac}_BS_{batch_size}'+(f'_l2_{lambda_l2}' if long else '') + (f'_BN_{bnorm}' if long else '') + '.pt'\n",
    "print(MODEL_NAME)\n",
    "# MODEL_NAME = f'Shallow_Windowed_50000_init_kmeans_logit_K_7_lambdal0_0.0_bce_frac_1.0_BS_400.pt'"
   ]
  },
  {
   "cell_type": "code",
   "execution_count": 7,
   "id": "attached-rochester",
   "metadata": {
    "scrolled": true
   },
   "outputs": [
    {
     "name": "stderr",
     "output_type": "stream",
     "text": [
      "INFO:admixture_ae:Random decoder initialization.\n"
     ]
    },
    {
     "data": {
      "text/plain": [
       "<All keys matched successfully>"
      ]
     },
     "execution_count": 7,
     "metadata": {},
     "output_type": "execute_result"
    }
   ],
   "source": [
    "ADM = AdmixtureAE(k, X.shape[1], lambda_l0=lambda_l0, deep_encoder=deep_encoder, lambda_l2=lambda_l2, batch_norm=bnorm).to(device)\n",
    "ADM.load_state_dict(torch.load(f'{MODELS_PATH}/{MODEL_NAME}'))#, map_location=torch.device('cuda')))"
   ]
  },
  {
   "cell_type": "code",
   "execution_count": 8,
   "id": "greek-nitrogen",
   "metadata": {
    "tags": []
   },
   "outputs": [
    {
     "name": "stdout",
     "output_type": "stream",
     "text": [
      "Computing validation outputs...\n",
      "Done!\n"
     ]
    }
   ],
   "source": [
    "ADM.eval()\n",
    "with torch.no_grad():\n",
    "    #print('Computing training outputs...')\n",
    "    #tr_outs = []\n",
    "    #for x in batch_generator(X, device, batch_size):\n",
    "    #    tr_outs.append(ADM(x)[1])\n",
    "    #tr_output = torch.vstack(tr_outs)\n",
    "    #del tr_outs\n",
    "    print('Computing validation outputs...')\n",
    "    val_outs = []\n",
    "    for x in batch_generator(valX, device, batch_size):\n",
    "        val_outs.append(ADM(x)[1])\n",
    "    val_output = torch.vstack(val_outs)\n",
    "    print('Done!')"
   ]
  },
  {
   "cell_type": "code",
   "execution_count": null,
   "id": "veterinary-hawaiian",
   "metadata": {},
   "outputs": [],
   "source": [
    "tr_output.detach().cpu().numpy().max(axis=1).min()"
   ]
  },
  {
   "cell_type": "code",
   "execution_count": 9,
   "id": "obvious-incidence",
   "metadata": {},
   "outputs": [
    {
     "data": {
      "text/plain": [
       "0.27815193"
      ]
     },
     "execution_count": 9,
     "metadata": {},
     "output_type": "execute_result"
    }
   ],
   "source": [
    "val_output.detach().cpu().numpy().max(axis=1).min()"
   ]
  },
  {
   "cell_type": "code",
   "execution_count": null,
   "id": "northern-clothing",
   "metadata": {},
   "outputs": [],
   "source": [
    "plt.figure(figsize=(20,6))\n",
    "plt.subplots_adjust(wspace=0, hspace=0)\n",
    "for k_idx in range(k):\n",
    "    if k_idx == 0:\n",
    "        ax1 = plt.subplot(1,k,k_idx+1)\n",
    "    else:\n",
    "        plt.subplot(1,k,k_idx+1, sharey=ax1)\n",
    "    labels_plot = [str(i) for i in range(k)]\n",
    "    plot_stacked_bar(tr_output.detach().cpu().T[:, np.array(y) == k_idx], labels_plot, legend=k_idx == k-1)\n",
    "    plt.title(ancestries[k_idx])"
   ]
  },
  {
   "cell_type": "code",
   "execution_count": 18,
   "id": "administrative-earthquake",
   "metadata": {
    "tags": []
   },
   "outputs": [
    {
     "name": "stdout",
     "output_type": "stream",
     "text": [
      "1\n",
      "(7, 437)\n",
      "0\n",
      "(7, 473)\n",
      "6\n",
      "(7, 338)\n",
      "5\n",
      "(7, 459)\n",
      "2\n",
      "(7, 450)\n",
      "3\n",
      "(7, 326)\n",
      "1\n",
      "(7, 350)\n"
     ]
    },
    {
     "data": {
      "image/png": "[encoded data removed]",
      "text/plain": [
       "<Figure size 1440x432 with 7 Axes>"
      ]
     },
     "metadata": {},
     "output_type": "display_data"
    }
   ],
   "source": [
    "plt.figure(figsize=(20,6))\n",
    "plt.subplots_adjust(wspace=0, hspace=0)\n",
    "for k_idx in range(k):\n",
    "    if k_idx == 0:\n",
    "        ax1 = plt.subplot(1,k,k_idx+1)\n",
    "    else:\n",
    "        plt.subplot(1,k,k_idx+1, sharey=ax1)\n",
    "    labels_plot = [str(i) for i in range(k)]\n",
    "    plot_stacked_bar(val_output.detach().cpu().T[:, np.array(valY) == k_idx], labels_plot, legend=k_idx == k-1)\n",
    "    plt.title(ancestries[k_idx])"
   ]
  },
  {
   "cell_type": "code",
   "execution_count": null,
   "id": "broke-worry",
   "metadata": {},
   "outputs": [],
   "source": []
  }
 ],
 "metadata": {
  "kernelspec": {
   "display_name": "Python 3",
   "language": "python",
   "name": "python3"
  },
  "language_info": {
   "codemirror_mode": {
    "name": "ipython",
    "version": 3
   },
   "file_extension": ".py",
   "mimetype": "text/x-python",
   "name": "python",
   "nbconvert_exporter": "python",
   "pygments_lexer": "ipython3",
   "version": "3.6.9"
  }
 },
 "nbformat": 4,
 "nbformat_minor": 5
}
