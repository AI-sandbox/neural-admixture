{
 "cells": [
  {
   "cell_type": "code",
   "execution_count": 1,
   "id": "colored-cabin",
   "metadata": {},
   "outputs": [],
   "source": [
    "import h5py\n",
    "import matplotlib.pyplot as plt\n",
    "import numpy as np\n",
    "import pandas as pd\n",
    "import time\n",
    "import torch\n",
    "import sys\n",
    "sys.path.append('../scripts/src')\n",
    "from multihead_admixture import AdmixtureMultiHead\n",
    "from sklearn.preprocessing import OneHotEncoder\n",
    "from sklearn.metrics import mutual_info_score, rand_score, adjusted_rand_score, fowlkes_mallows_score, adjusted_mutual_info_score, v_measure_score, homogeneity_completeness_v_measure"
   ]
  },
  {
   "cell_type": "code",
   "execution_count": 2,
   "id": "latter-beauty",
   "metadata": {},
   "outputs": [],
   "source": [
    "def get_model_preds(model, data, only_time=False, use_gpu=True):\n",
    "    if use_gpu:\n",
    "        assert torch.cuda.is_available(), 'GPU not available. Set use_gpu to False.'\n",
    "    model.to(torch.device('cuda:0' if use_gpu else 'cpu'))\n",
    "    if not only_time:\n",
    "        outs = torch.tensor([])\n",
    "    t0 = time.time()\n",
    "    model.eval()\n",
    "    with torch.no_grad():\n",
    "        for i, (X, _) in enumerate(model._batch_generator(data, 200, shuffle=False)):\n",
    "            X = X.to(torch.device('cuda:0' if use_gpu else 'cpu'))\n",
    "            out = model(X, True)\n",
    "            if not only_time:\n",
    "                outs = torch.cat((outs, out[0].detach().cpu()), axis=0)\n",
    "    te = time.time()\n",
    "    print(te-t0, 'seconds ellapsed in {}'.format('GPU' if use_gpu else 'CPU'))\n",
    "    return time.time()-t0 if only_time else outs.cpu().numpy()"
   ]
  },
  {
   "cell_type": "code",
   "execution_count": 3,
   "id": "entertaining-greeting",
   "metadata": {},
   "outputs": [],
   "source": [
    "def output_metrics(gt, preds_class, preds_neur):\n",
    "    assert len(gt) == len(preds_class) == len(preds_neur), 'GT and predictions do not have same number of samples'\n",
    "    class_assign = np.argmax(preds_class, axis=1)\n",
    "    neur_assign = np.argmax(preds_neur, axis=1)\n",
    "    gt_oh = OneHotEncoder().fit_transform(gt.reshape(-1,1))\n",
    "    print('--------- METRICS (FUZZY) ---------')\n",
    "    print('Mean Squared Second Order Difference (MSSOD)')\n",
    "    print('Classical', ((preds_class@preds_class.T-gt_oh@gt_oh.T)**2).mean())\n",
    "    print('Neural', ((preds_neur@preds_neur.T-gt_oh@gt_oh.T)**2).mean())\n",
    "    print('---------------------------')\n",
    "    print('--------- METRICS (HARD) ---------')\n",
    "    print('--------------------------------------------------')\n",
    "    print('|Will use argmax of predictions to compute scores|')\n",
    "    print('--------------------------------------------------')\n",
    "    print('Fowlkes Mallows Score')\n",
    "    print('Classical', fowlkes_mallows_score(gt, class_assign))\n",
    "    print('Neural', fowlkes_mallows_score(gt, neur_assign))\n",
    "    print('---------------------------')\n",
    "    print('V-Measure')\n",
    "    print('Classical', v_measure_score(gt, class_assign))\n",
    "    print('Neural', v_measure_score(gt, neur_assign))\n",
    "    print('---------------------------')\n",
    "    print('Adjusted mutual information score')\n",
    "    print('Classical', adjusted_mutual_info_score(gt, class_assign))\n",
    "    print('Neural', adjusted_mutual_info_score(gt, neur_assign))\n",
    "    print('---------------------------')"
   ]
  },
  {
   "cell_type": "code",
   "execution_count": 4,
   "id": "contemporary-panic",
   "metadata": {},
   "outputs": [],
   "source": [
    "tr_file_0 = h5py.File('/mnt/gpid08/users/albert.dominguez/data/chr22/windowed/train_found_avg.h5', 'r')\n",
    "val_file_0 = h5py.File('/mnt/gpid08/users/albert.dominguez/data/chr22/windowed/valid_found_avg.h5', 'r')\n",
    "tr_file_0_2 = h5py.File('/mnt/gpid08/users/albert.dominguez/data/chr22/windowed/train_2gen_avg.h5', 'r')\n",
    "val_file_0_2 = h5py.File('/mnt/gpid08/users/albert.dominguez/data/chr22/windowed/valid_2gen_avg.h5', 'r')\n",
    "\n",
    "trX_0, trY_0 = tr_file_0['snps'], tr_file_0['populations']\n",
    "valX_0, valY_0 = val_file_0['snps'], val_file_0['populations']\n",
    "trX_0_2, trY_0_2 = tr_file_0_2['snps'], tr_file_0_2['populations']\n",
    "valX_0_2, valY_0_2 = val_file_0_2['snps'], val_file_0_2['populations']"
   ]
  },
  {
   "cell_type": "markdown",
   "id": "timely-touch",
   "metadata": {},
   "source": [
    "## Chr22 - Unsupervised, Gens 0 and 2 (207b03a28f894906912a5397acd3ffd4)"
   ]
  },
  {
   "cell_type": "code",
   "execution_count": 14,
   "id": "veterinary-fairy",
   "metadata": {},
   "outputs": [
    {
     "data": {
      "text/plain": [
       "<All keys matched successfully>"
      ]
     },
     "execution_count": 14,
     "metadata": {},
     "output_type": "execute_result"
    }
   ],
   "source": [
    "model_path = '/mnt/gpid08/users/albert.dominguez/weights/chr22/207b03a28f894906912a5397acd3ffd4.pt'\n",
    "model = AdmixtureMultiHead([7], 317408, batch_norm=True,\n",
    "                           batch_norm_hidden=False, dropout=0, pooling=1, linear=1).to(torch.device('cuda:0'))\n",
    "model.load_state_dict(torch.load(model_path, map_location=torch.device('cuda:0')), strict=False)"
   ]
  },
  {
   "cell_type": "code",
   "execution_count": 15,
   "id": "thermal-counter",
   "metadata": {},
   "outputs": [],
   "source": [
    "Qs_class = pd.read_csv('/home/usuaris/imatge/albert.dominguez/gpid08/classical/gen0_2_chr22.7.Q',sep=' ', names=np.array(range(7))).to_numpy()\n",
    "Qs_class_valid = pd.read_csv('/home/usuaris/imatge/albert.dominguez/gpid08/classical/gen0_2_chr22_valid.7.Q',sep=' ', names=np.array(range(7))).to_numpy()"
   ]
  },
  {
   "cell_type": "code",
   "execution_count": 16,
   "id": "invalid-exercise",
   "metadata": {},
   "outputs": [
    {
     "name": "stdout",
     "output_type": "stream",
     "text": [
      "13.044774293899536 seconds ellapsed in GPU\n",
      "2.2285995483398438 seconds ellapsed in GPU\n"
     ]
    }
   ],
   "source": [
    "assert Qs_class.shape[0] == trX_0_2.shape[0], 'Not same data'\n",
    "assert Qs_class_valid.shape[0] == valX_0_2.shape[0], 'Not same data'\n",
    "Qs_neur = get_model_preds(model, trX_0_2)\n",
    "Qs_neur_valid = get_model_preds(model, valX_0_2)"
   ]
  },
  {
   "cell_type": "code",
   "execution_count": 17,
   "id": "optical-carol",
   "metadata": {},
   "outputs": [
    {
     "name": "stdout",
     "output_type": "stream",
     "text": [
      "TRAIN\n",
      "--------- METRICS (FUZZY) ---------\n",
      "Mean Squared Second Order Difference (MSSOD)\n",
      "Classical 15.011621800366477\n",
      "Neural 1.77631949832968\n",
      "---------------------------\n",
      "--------- METRICS (HARD) ---------\n",
      "--------------------------------------------------\n",
      "|Will use argmax of predictions to compute scores|\n",
      "--------------------------------------------------\n",
      "Fowlkes Mallows Score\n",
      "Classical 0.8640602350942466\n",
      "Neural 0.9342663309158413\n",
      "---------------------------\n",
      "V-Measure\n",
      "Classical 0.8999268699146612\n",
      "Neural 0.9252862151148682\n",
      "---------------------------\n",
      "Adjusted mutual information score\n",
      "Classical 0.8997227527818956\n",
      "Neural 0.9251401371275143\n",
      "---------------------------\n"
     ]
    }
   ],
   "source": [
    "print('TRAIN')\n",
    "output_metrics(trY_0_2[:], Qs_class, Qs_neur)"
   ]
  },
  {
   "cell_type": "code",
   "execution_count": 18,
   "id": "registered-value",
   "metadata": {},
   "outputs": [
    {
     "name": "stdout",
     "output_type": "stream",
     "text": [
      "VALID\n",
      "--------- METRICS (FUZZY) ---------\n",
      "Mean Squared Second Order Difference (MSSOD)\n",
      "Classical 2.9632264020637216\n",
      "Neural 0.6219446060366675\n",
      "---------------------------\n",
      "--------- METRICS (HARD) ---------\n",
      "--------------------------------------------------\n",
      "|Will use argmax of predictions to compute scores|\n",
      "--------------------------------------------------\n",
      "Fowlkes Mallows Score\n",
      "Classical 0.8291473850220182\n",
      "Neural 0.8864775389428563\n",
      "---------------------------\n",
      "V-Measure\n",
      "Classical 0.8463014084748981\n",
      "Neural 0.8821732393340607\n",
      "---------------------------\n",
      "Adjusted mutual information score\n",
      "Classical 0.8442532851510034\n",
      "Neural 0.8806709026796845\n",
      "---------------------------\n"
     ]
    }
   ],
   "source": [
    "print('VALID')\n",
    "output_metrics(valY_0_2[:], Qs_class_valid, Qs_neur_valid)"
   ]
  },
  {
   "cell_type": "markdown",
   "id": "super-participant",
   "metadata": {},
   "source": [
    "## Chr22 - Unsupervised Gen 0 (376b06410f424d2d91516cb3f52d61ba)"
   ]
  },
  {
   "cell_type": "code",
   "execution_count": 11,
   "id": "hydraulic-prerequisite",
   "metadata": {},
   "outputs": [
    {
     "data": {
      "text/plain": [
       "<All keys matched successfully>"
      ]
     },
     "execution_count": 11,
     "metadata": {},
     "output_type": "execute_result"
    }
   ],
   "source": [
    "model_path = '/mnt/gpid08/users/albert.dominguez/weights/chr22/376b06410f424d2d91516cb3f52d61ba.pt'\n",
    "model = AdmixtureMultiHead([7], 317408, batch_norm=True,\n",
    "                           batch_norm_hidden=False, dropout=0, pooling=1, linear=1).to(torch.device('cuda:0'))\n",
    "model.load_state_dict(torch.load(model_path, map_location=torch.device('cuda:0')), strict=True)"
   ]
  },
  {
   "cell_type": "code",
   "execution_count": 12,
   "id": "respective-trademark",
   "metadata": {},
   "outputs": [],
   "source": [
    "Qs_class = pd.read_csv('/home/usuaris/imatge/albert.dominguez/ADMIXTURE/gen0_chr22_train.7.Q',sep=' ', names=np.array(range(7))).to_numpy()\n",
    "Qs_class_valid = pd.read_csv('/home/usuaris/imatge/albert.dominguez/ADMIXTURE/gen0_chr22_valid.7.Q',sep=' ', names=np.array(range(7))).to_numpy()"
   ]
  },
  {
   "cell_type": "code",
   "execution_count": 13,
   "id": "super-mumbai",
   "metadata": {},
   "outputs": [
    {
     "name": "stdout",
     "output_type": "stream",
     "text": [
      "5.6363115310668945 seconds ellapsed in GPU\n",
      "1.1841380596160889 seconds ellapsed in GPU\n"
     ]
    }
   ],
   "source": [
    "assert Qs_class.shape[0] == trX_0.shape[0], 'Not same training data'\n",
    "assert Qs_class_valid.shape[0] == valX_0.shape[0], 'Not same validation data'\n",
    "Qs_neur = get_model_preds(model, trX_0)\n",
    "Qs_neur_valid = get_model_preds(model, valX_0)"
   ]
  },
  {
   "cell_type": "code",
   "execution_count": 24,
   "id": "loose-refund",
   "metadata": {},
   "outputs": [
    {
     "name": "stdout",
     "output_type": "stream",
     "text": [
      "TRAIN\n",
      "--------- METRICS (FUZZY) ---------\n",
      "Mean Squared Second Order Difference (MSSOD)\n",
      "Classical 6.707298310219567\n",
      "Neural 2.437341182741671\n",
      "---------------------------\n",
      "--------- METRICS (HARD) ---------\n",
      "--------------------------------------------------\n",
      "|Will use argmax of predictions to compute scores|\n",
      "--------------------------------------------------\n",
      "Fowlkes Mallows Score\n",
      "Classical 0.8716743608620509\n",
      "Neural 0.9269361397359324\n",
      "---------------------------\n",
      "V-Measure\n",
      "Classical 0.8267612512619568\n",
      "Neural 0.8800007015886288\n",
      "---------------------------\n",
      "Adjusted mutual information score\n",
      "Classical 0.8258333889614003\n",
      "Neural 0.879443724896991\n",
      "---------------------------\n"
     ]
    }
   ],
   "source": [
    "print('TRAIN')\n",
    "output_metrics(trY_0[:], Qs_class, Qs_neur)"
   ]
  },
  {
   "cell_type": "code",
   "execution_count": 25,
   "id": "happy-arrangement",
   "metadata": {},
   "outputs": [
    {
     "name": "stdout",
     "output_type": "stream",
     "text": [
      "VALID\n",
      "--------- METRICS (FUZZY) ---------\n",
      "Mean Squared Second Order Difference (MSSOD)\n",
      "Classical 1.551405133282568\n",
      "Neural 0.6677955358847198\n",
      "---------------------------\n",
      "--------- METRICS (HARD) ---------\n",
      "--------------------------------------------------\n",
      "|Will use argmax of predictions to compute scores|\n",
      "--------------------------------------------------\n",
      "Fowlkes Mallows Score\n",
      "Classical 0.8361400491655274\n",
      "Neural 0.9115387626490555\n",
      "---------------------------\n",
      "V-Measure\n",
      "Classical 0.7947127155466417\n",
      "Neural 0.8710457569604863\n",
      "---------------------------\n",
      "Adjusted mutual information score\n",
      "Classical 0.7893895576547093\n",
      "Neural 0.8681440098071712\n",
      "---------------------------\n"
     ]
    }
   ],
   "source": [
    "print('VALID')\n",
    "output_metrics(valY_0[:], Qs_class_valid, Qs_neur_valid)"
   ]
  },
  {
   "cell_type": "code",
   "execution_count": 10,
   "id": "automated-influence",
   "metadata": {},
   "outputs": [
    {
     "name": "stdout",
     "output_type": "stream",
     "text": [
      "VALID\n",
      "1.0049283504486084 seconds ellapsed in GPU\n",
      "4.798365831375122 seconds ellapsed in CPU\n"
     ]
    }
   ],
   "source": [
    "print('VALID')\n",
    "_ = get_model_preds(model, valX_0, use_gpu=True, only_time=True)\n",
    "_ = get_model_preds(model, valX_0, use_gpu=False, only_time=True)"
   ]
  },
  {
   "cell_type": "markdown",
   "id": "gross-hopkins",
   "metadata": {},
   "source": [
    "## Chr22 - ADMIXTURE reusage, Gen 0 (0b5468c41e714147844e45a0813865d7)"
   ]
  },
  {
   "cell_type": "code",
   "execution_count": 6,
   "id": "signal-mainstream",
   "metadata": {},
   "outputs": [
    {
     "data": {
      "text/plain": [
       "<All keys matched successfully>"
      ]
     },
     "execution_count": 6,
     "metadata": {},
     "output_type": "execute_result"
    }
   ],
   "source": [
    "model_path = '/mnt/gpid08/users/albert.dominguez/weights/chr22/0b5468c41e714147844e45a0813865d7.pt'\n",
    "model = AdmixtureMultiHead([7], 317408, batch_norm=True,\n",
    "                           batch_norm_hidden=False, dropout=0, pooling=1, linear=1).to(torch.device('cuda:0'))\n",
    "model.load_state_dict(torch.load(model_path, map_location=torch.device('cuda:0')), strict=False)"
   ]
  },
  {
   "cell_type": "code",
   "execution_count": 35,
   "id": "seasonal-venue",
   "metadata": {},
   "outputs": [],
   "source": [
    "Qs_class = pd.read_csv('/home/usuaris/imatge/albert.dominguez/ADMIXTURE/gen0_chr22_train.7.Q',sep=' ', names=np.array(range(7))).to_numpy()\n",
    "Qs_class_valid = pd.read_csv('/home/usuaris/imatge/albert.dominguez/ADMIXTURE/gen0_chr22_valid.7.Q',sep=' ', names=np.array(range(7))).to_numpy()"
   ]
  },
  {
   "cell_type": "code",
   "execution_count": 36,
   "id": "persistent-batch",
   "metadata": {},
   "outputs": [
    {
     "name": "stdout",
     "output_type": "stream",
     "text": [
      "5.588572978973389 seconds ellapsed\n",
      "1.133047103881836 seconds ellapsed\n"
     ]
    }
   ],
   "source": [
    "assert Qs_class.shape[0] == trX_0.shape[0], 'Not same training data'\n",
    "assert Qs_class_valid.shape[0] == valX_0.shape[0], 'Not same validation data'\n",
    "Qs_neur = get_model_preds(model, trX_0)\n",
    "Qs_neur_valid = get_model_preds(model, valX_0)"
   ]
  },
  {
   "cell_type": "code",
   "execution_count": 37,
   "id": "electronic-ranking",
   "metadata": {},
   "outputs": [
    {
     "name": "stdout",
     "output_type": "stream",
     "text": [
      "TRAIN\n",
      "--------- METRICS (FUZZY) ---------\n",
      "Mean Squared Second Order Difference (MSSOD)\n",
      "Classical 6.707298310219567\n",
      "Neural 6.06827458116481\n",
      "---------------------------\n",
      "--------- METRICS (HARD) ---------\n",
      "--------------------------------------------------\n",
      "|Will use argmax of predictions to compute scores|\n",
      "--------------------------------------------------\n",
      "Fowlkes Mallows Score\n",
      "Classical 0.8716743608620509\n",
      "Neural 0.8420178574500671\n",
      "---------------------------\n",
      "V-Measure\n",
      "Classical 0.8267612512619568\n",
      "Neural 0.7927823813066228\n",
      "---------------------------\n",
      "Adjusted mutual information score\n",
      "Classical 0.8258333889614003\n",
      "Neural 0.7916737947827464\n",
      "---------------------------\n"
     ]
    }
   ],
   "source": [
    "print('TRAIN')\n",
    "output_metrics(trY_0[:], Qs_class, Qs_neur)"
   ]
  },
  {
   "cell_type": "code",
   "execution_count": 38,
   "id": "negative-utilization",
   "metadata": {},
   "outputs": [
    {
     "name": "stdout",
     "output_type": "stream",
     "text": [
      "VALID\n",
      "--------- METRICS (FUZZY) ---------\n",
      "Mean Squared Second Order Difference (MSSOD)\n",
      "Classical 1.551405133282568\n",
      "Neural 1.5426310529053393\n",
      "---------------------------\n",
      "--------- METRICS (HARD) ---------\n",
      "--------------------------------------------------\n",
      "|Will use argmax of predictions to compute scores|\n",
      "--------------------------------------------------\n",
      "Fowlkes Mallows Score\n",
      "Classical 0.8361400491655274\n",
      "Neural 0.8283815180725387\n",
      "---------------------------\n",
      "V-Measure\n",
      "Classical 0.7947127155466417\n",
      "Neural 0.78709299888713\n",
      "---------------------------\n",
      "Adjusted mutual information score\n",
      "Classical 0.7893895576547093\n",
      "Neural 0.7815571388679269\n",
      "---------------------------\n"
     ]
    }
   ],
   "source": [
    "print('VALID')\n",
    "output_metrics(valY_0[:], Qs_class_valid, Qs_neur_valid)"
   ]
  },
  {
   "cell_type": "code",
   "execution_count": 7,
   "id": "inappropriate-confusion",
   "metadata": {},
   "outputs": [
    {
     "name": "stdout",
     "output_type": "stream",
     "text": [
      "VALID\n",
      "1.0814101696014404 seconds ellapsed in GPU\n",
      "4.681434392929077 seconds ellapsed in CPU\n"
     ]
    }
   ],
   "source": [
    "print('VALID')\n",
    "_ = get_model_preds(model, valX_0, use_gpu=True, only_time=True)\n",
    "_ = get_model_preds(model, valX_0, use_gpu=False, only_time=True)"
   ]
  },
  {
   "cell_type": "markdown",
   "id": "intense-settle",
   "metadata": {},
   "source": [
    "## Chr22 - Supervised, Gen 0 (e28a10422a9e4b62af8572bc54363851)"
   ]
  },
  {
   "cell_type": "markdown",
   "id": "brown-energy",
   "metadata": {},
   "source": [
    "### Metrics"
   ]
  },
  {
   "cell_type": "code",
   "execution_count": 45,
   "id": "after-parliament",
   "metadata": {},
   "outputs": [
    {
     "data": {
      "text/plain": [
       "<All keys matched successfully>"
      ]
     },
     "execution_count": 45,
     "metadata": {},
     "output_type": "execute_result"
    }
   ],
   "source": [
    "model_path = '/mnt/gpid08/users/albert.dominguez/weights/chr22/e28a10422a9e4b62af8572bc54363851.pt'\n",
    "model = AdmixtureMultiHead([7], 317408, batch_norm=True,\n",
    "                           batch_norm_hidden=False, dropout=0, pooling=1, linear=1).to(torch.device('cuda:0'))\n",
    "model.load_state_dict(torch.load(model_path, map_location=torch.device('cuda:0')), strict=False)"
   ]
  },
  {
   "cell_type": "code",
   "execution_count": 46,
   "id": "proof-america",
   "metadata": {},
   "outputs": [],
   "source": [
    "Qs_class = pd.read_csv('/home/usuaris/imatge/albert.dominguez/ADMIXTURE/gen0_chr22_train_supervised.7.Q',sep=' ', names=np.array(range(7))).to_numpy()\n",
    "Qs_class_valid = pd.read_csv('/home/usuaris/imatge/albert.dominguez/ADMIXTURE/gen0_chr22_valid_supervised.7.Q',sep=' ', names=np.array(range(7))).to_numpy()"
   ]
  },
  {
   "cell_type": "code",
   "execution_count": 47,
   "id": "neural-candidate",
   "metadata": {},
   "outputs": [
    {
     "name": "stdout",
     "output_type": "stream",
     "text": [
      "5.179257154464722 seconds ellapsed\n",
      "1.1776306629180908 seconds ellapsed\n"
     ]
    }
   ],
   "source": [
    "assert Qs_class.shape[0] == trX_0.shape[0], 'Not same training data'\n",
    "assert Qs_class_valid.shape[0] == valX_0.shape[0], 'Not same validation data'\n",
    "Qs_neur = get_model_preds(model, trX_0)\n",
    "Qs_neur_valid = get_model_preds(model, valX_0)"
   ]
  },
  {
   "cell_type": "code",
   "execution_count": 48,
   "id": "exempt-beginning",
   "metadata": {},
   "outputs": [
    {
     "name": "stdout",
     "output_type": "stream",
     "text": [
      "TRAIN\n",
      "--------- METRICS (FUZZY) ---------\n",
      "Mean Squared Second Order Difference (MSSOD)\n",
      "Classical 3.358932046499114e-07\n",
      "Neural 1.1184102656377742e-05\n",
      "---------------------------\n",
      "--------- METRICS (HARD) ---------\n",
      "--------------------------------------------------\n",
      "|Will use argmax of predictions to compute scores|\n",
      "--------------------------------------------------\n",
      "Fowlkes Mallows Score\n",
      "Classical 1.0\n",
      "Neural 1.0\n",
      "---------------------------\n",
      "V-Measure\n",
      "Classical 1.0\n",
      "Neural 1.0\n",
      "---------------------------\n",
      "Adjusted mutual information score\n",
      "Classical 1.0\n",
      "Neural 1.0\n",
      "---------------------------\n"
     ]
    }
   ],
   "source": [
    "print('TRAIN')\n",
    "output_metrics(trY_0[:], Qs_class, Qs_neur)"
   ]
  },
  {
   "cell_type": "code",
   "execution_count": 49,
   "id": "great-drain",
   "metadata": {},
   "outputs": [
    {
     "name": "stdout",
     "output_type": "stream",
     "text": [
      "VALID\n",
      "--------- METRICS (FUZZY) ---------\n",
      "Mean Squared Second Order Difference (MSSOD)\n",
      "Classical 0.4651858439708802\n",
      "Neural 0.2640352250473474\n",
      "---------------------------\n",
      "--------- METRICS (HARD) ---------\n",
      "--------------------------------------------------\n",
      "|Will use argmax of predictions to compute scores|\n",
      "--------------------------------------------------\n",
      "Fowlkes Mallows Score\n",
      "Classical 0.9247131693469138\n",
      "Neural 0.9375786750641184\n",
      "---------------------------\n",
      "V-Measure\n",
      "Classical 0.8835567334847422\n",
      "Neural 0.9002929354258082\n",
      "---------------------------\n",
      "Adjusted mutual information score\n",
      "Classical 0.8805300871814828\n",
      "Neural 0.8976951184058082\n",
      "---------------------------\n"
     ]
    }
   ],
   "source": [
    "print('VALID')\n",
    "output_metrics(valY_0[:], Qs_class_valid, Qs_neur_valid)"
   ]
  },
  {
   "cell_type": "markdown",
   "id": "brilliant-timothy",
   "metadata": {},
   "source": [
    "### Time"
   ]
  },
  {
   "cell_type": "code",
   "execution_count": 56,
   "id": "catholic-feeling",
   "metadata": {},
   "outputs": [
    {
     "name": "stdout",
     "output_type": "stream",
     "text": [
      "TRAIN\n",
      "4.699835300445557 seconds ellapsed in GPU\n",
      "VALID\n",
      "1.0670619010925293 seconds ellapsed in GPU\n"
     ]
    }
   ],
   "source": [
    "print('TRAIN')\n",
    "_ = get_model_preds(model, trX_0, use_gpu=True, only_time=True)\n",
    "print('VALID')\n",
    "_ = get_model_preds(model, valX_0, use_gpu=True, only_time=True)"
   ]
  },
  {
   "cell_type": "code",
   "execution_count": 57,
   "id": "unexpected-wallpaper",
   "metadata": {},
   "outputs": [
    {
     "name": "stdout",
     "output_type": "stream",
     "text": [
      "VALID\n",
      "6.23095440864563 seconds ellapsed in CPU\n"
     ]
    }
   ],
   "source": [
    "print('VALID')\n",
    "_ = get_model_preds(model, valX_0, use_gpu=False, only_time=True)"
   ]
  },
  {
   "cell_type": "code",
   "execution_count": null,
   "id": "difficult-tomorrow",
   "metadata": {},
   "outputs": [],
   "source": []
  }
 ],
 "metadata": {
  "kernelspec": {
   "display_name": "Python 3",
   "language": "python",
   "name": "python3"
  },
  "language_info": {
   "codemirror_mode": {
    "name": "ipython",
    "version": 3
   },
   "file_extension": ".py",
   "mimetype": "text/x-python",
   "name": "python",
   "nbconvert_exporter": "python",
   "pygments_lexer": "ipython3",
   "version": "3.9.2"
  }
 },
 "nbformat": 4,
 "nbformat_minor": 5
}
